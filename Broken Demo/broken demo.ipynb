{
 "cells": [
  {
   "cell_type": "code",
   "execution_count": 38,
   "metadata": {},
   "outputs": [],
   "source": [
    "import sys\n",
    "import json\n",
    "import os\n",
    "from bs4 import BeautifulSoup"
   ]
  },
  {
   "cell_type": "code",
   "execution_count": 39,
   "metadata": {},
   "outputs": [
    {
     "data": {
      "text/plain": [
       "'3.6.8 |Anaconda, Inc.| (default, Dec 29 2018, 19:04:46) \\n[GCC 4.2.1 Compatible Clang 4.0.1 (tags/RELEASE_401/final)]'"
      ]
     },
     "execution_count": 39,
     "metadata": {},
     "output_type": "execute_result"
    }
   ],
   "source": [
    "sys.version"
   ]
  },
  {
   "cell_type": "code",
   "execution_count": 40,
   "metadata": {},
   "outputs": [],
   "source": [
    "def remove_unnecessary(name, soup):\n",
    "    for s in soup.find_all(name):\n",
    "        s.extract()"
   ]
  },
  {
   "cell_type": "code",
   "execution_count": 41,
   "metadata": {},
   "outputs": [],
   "source": [
    "def add_to_dict(dictionary, name, tag, soup):\n",
    "#     If nothing in the dictionary, add it.\n",
    "    if(dictionary[name] == ''):\n",
    "        dictionary[name] = []\n",
    "    objs = soup.find_all(tag)\n",
    "    if(len(objs) > 0):\n",
    "        for obj in objs:\n",
    "#             s = obj.text.strip().replace('\\n', '').replace('\\t', ' ')\n",
    "            s = obj.text\n",
    "            if(len(s) > 0):\n",
    "                dictionary[name].append(s)\n",
    "            obj.extract()"
   ]
  },
  {
   "cell_type": "code",
   "execution_count": 42,
   "metadata": {},
   "outputs": [],
   "source": [
    "def parse_data(soup):\n",
    "    # Script and Style are meaningless\n",
    "    remove_unnecessary('script', soup)\n",
    "    remove_unnecessary('style', soup)\n",
    "\n",
    "    # Define the dictionary content and the items in it.\n",
    "    # Currently we define it as:\n",
    "    '''\n",
    "    Link_Name: the text show on link name, since in that link it is more relevant, we should store it here\n",
    "    Paragraph: the paragraphs in the page, it is the important things\n",
    "    Title: I just stored the h1, h2, h3, Strong tags here, they are more important content.\n",
    "    Span: The ones in span, they are not important, I just store them and extract them later.\n",
    "    Others: The other content left in the page, it should have less weight.\n",
    "    '''\n",
    "    content = {}\n",
    "    content['Link_Name'] = []\n",
    "    content['Paragraph'] = []\n",
    "    content['Title'] = []\n",
    "    content['Span'] = []\n",
    "    content['Others'] = []\n",
    "\n",
    "    add_to_dict(content, 'Link_Name', 'a', soup)\n",
    "\n",
    "    add_to_dict(content, 'Link_Name', 'li', soup)\n",
    "\n",
    "    add_to_dict(content, 'Link_Name', 'option', soup)\n",
    "\n",
    "    add_to_dict(content, 'Span', 'span', soup)\n",
    "\n",
    "    add_to_dict(content, 'Paragraph', 'p', soup)\n",
    "\n",
    "    for tag in ('title', 'h1', 'h2', 'h3', 'Strong'):\n",
    "        add_to_dict(content, 'Title', tag, soup)\n",
    "    try:\n",
    "        soup.find('head').extract()\n",
    "    except:\n",
    "        None\n",
    "\n",
    "#         Here since I extract all the read text above, the rest of them will not be duplicated.\n",
    "#         And if there is any BROKEN html, it will read into \"Others\"\n",
    "    for word in soup.text.split('\\n'):\n",
    "        word = word.strip()\n",
    "        if(len(word) > 0):\n",
    "            content['Others'].append(word)\n",
    "            \n",
    "    return content"
   ]
  },
  {
   "cell_type": "code",
   "execution_count": 43,
   "metadata": {},
   "outputs": [],
   "source": [
    "with open(\"/Users/weijiaxu/Desktop/2019W/Information Retrieval/Project 3/GIT/Broken Demo/2\") as f:\n",
    "    soup1 = BeautifulSoup(f.read())\n",
    "with open(\"/Users/weijiaxu/Desktop/2019W/Information Retrieval/Project 3/GIT/Broken Demo/2 broken\") as f:\n",
    "    soup2 = BeautifulSoup(f.read())"
   ]
  },
  {
   "cell_type": "code",
   "execution_count": 44,
   "metadata": {
    "scrolled": false
   },
   "outputs": [
    {
     "data": {
      "text/plain": [
       "<!DOCTYPE HTML PUBLIC \"-//W3C//DTD HTML 4.01 Transitional//EN\" \"http://www.w3.org/TR/html4/loose.dtd\">\n",
       "<html>\n",
       "<head>\n",
       "<title>Arthur Asuncion's Official Site: Blog</title>\n",
       "</head>\n",
       "<body>\n",
       "<p> This tag is with complete tag</p>\n",
       "<p> This should be in a P </p>\n",
       "<p> This should be in a P </p>\n",
       "<p> This should be in a P </p>\n",
       "</body>\n",
       "</html>"
      ]
     },
     "execution_count": 44,
     "metadata": {},
     "output_type": "execute_result"
    }
   ],
   "source": [
    "soup1"
   ]
  },
  {
   "cell_type": "code",
   "execution_count": 45,
   "metadata": {
    "scrolled": true
   },
   "outputs": [
    {
     "data": {
      "text/plain": [
       "<!DOCTYPE HTML PUBLIC \"-//W3C//DTD HTML 4.01 Transitional//EN\" \"http://www.w3.org/TR/html4/loose.dtd\">\n",
       "<html>\n",
       "<head>\n",
       "<title>Arthur Asuncion's Official Site: Blog</title>\n",
       "</head>\n",
       "<body>\n",
       "This is a sentence with out any tags.\n",
       "<p> This should be in a P </p>\n",
       "This should be in a P without head\n",
       "<p> This should be in a P without end\n",
       "</p></body>\n",
       "</html>"
      ]
     },
     "execution_count": 45,
     "metadata": {},
     "output_type": "execute_result"
    }
   ],
   "source": [
    "soup2"
   ]
  },
  {
   "cell_type": "markdown",
   "metadata": {},
   "source": [
    "# Firstly, we choose BeautifulSoup since it can handle the broken html.\n",
    "# Second, we add a mechanism to grip the rest text of the html and store it in \"Others\", this will also be helpful."
   ]
  },
  {
   "cell_type": "code",
   "execution_count": 46,
   "metadata": {},
   "outputs": [],
   "source": [
    "content1 = parse_data(soup1)"
   ]
  },
  {
   "cell_type": "code",
   "execution_count": 47,
   "metadata": {},
   "outputs": [],
   "source": [
    "content2 = parse_data(soup2)"
   ]
  },
  {
   "cell_type": "code",
   "execution_count": 48,
   "metadata": {},
   "outputs": [
    {
     "data": {
      "text/plain": [
       "{'Link_Name': [],\n",
       " 'Paragraph': [' This tag is with complete tag',\n",
       "  ' This should be in a P ',\n",
       "  ' This should be in a P ',\n",
       "  ' This should be in a P '],\n",
       " 'Title': [\"Arthur Asuncion's Official Site: Blog\"],\n",
       " 'Span': [],\n",
       " 'Others': []}"
      ]
     },
     "execution_count": 48,
     "metadata": {},
     "output_type": "execute_result"
    }
   ],
   "source": [
    "content1"
   ]
  },
  {
   "cell_type": "code",
   "execution_count": 49,
   "metadata": {},
   "outputs": [
    {
     "data": {
      "text/plain": [
       "{'Link_Name': [],\n",
       " 'Paragraph': [' This should be in a P ',\n",
       "  ' This should be in a P without end\\n'],\n",
       " 'Title': [\"Arthur Asuncion's Official Site: Blog\"],\n",
       " 'Span': [],\n",
       " 'Others': ['This is a sentence with out any tags.',\n",
       "  'This should be in a P without head']}"
      ]
     },
     "execution_count": 49,
     "metadata": {},
     "output_type": "execute_result"
    }
   ],
   "source": [
    "content2"
   ]
  },
  {
   "cell_type": "code",
   "execution_count": null,
   "metadata": {},
   "outputs": [],
   "source": []
  }
 ],
 "metadata": {
  "kernelspec": {
   "display_name": "Python 3",
   "language": "python",
   "name": "python3"
  },
  "language_info": {
   "codemirror_mode": {
    "name": "ipython",
    "version": 3
   },
   "file_extension": ".py",
   "mimetype": "text/x-python",
   "name": "python",
   "nbconvert_exporter": "python",
   "pygments_lexer": "ipython3",
   "version": "3.6.8"
  }
 },
 "nbformat": 4,
 "nbformat_minor": 2
}
