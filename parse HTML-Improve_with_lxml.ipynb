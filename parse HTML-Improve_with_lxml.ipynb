{
 "cells": [
  {
   "cell_type": "code",
   "execution_count": 1,
   "metadata": {},
   "outputs": [],
   "source": [
    "import sys\n",
    "import json\n",
    "import os\n",
    "# from bs4 import BeautifulSoup\n",
    "from lxml import html, etree"
   ]
  },
  {
   "cell_type": "code",
   "execution_count": 2,
   "metadata": {},
   "outputs": [
    {
     "data": {
      "text/plain": [
       "'3.6.8 |Anaconda, Inc.| (default, Dec 29 2018, 19:04:46) \\n[GCC 4.2.1 Compatible Clang 4.0.1 (tags/RELEASE_401/final)]'"
      ]
     },
     "execution_count": 2,
     "metadata": {},
     "output_type": "execute_result"
    }
   ],
   "source": [
    "sys.version"
   ]
  },
  {
   "cell_type": "code",
   "execution_count": 3,
   "metadata": {},
   "outputs": [],
   "source": [
    "def remove_unnecessary(tag, page):\n",
    "    property_list = page.xpath('.//' + tag)\n",
    "    for s in property_list:\n",
    "        s.drop_tree()"
   ]
  },
  {
   "cell_type": "code",
   "execution_count": 4,
   "metadata": {},
   "outputs": [],
   "source": [
    "def add_to_dict(dictionary, name, tag, page):\n",
    "#     If nothing in the dictionary, add it.\n",
    "    if(dictionary[name] == ''):\n",
    "        dictionary[name] = []\n",
    "    property_list = page.xpath('.//' + tag)\n",
    "\n",
    "    if(len(property_list) > 0):\n",
    "        for obj in property_list:\n",
    "#             s = obj.text.replace('\\n', ' ').replace('\\t', ' ')\n",
    "#             s.strip()\n",
    "            s = obj.text_content()\n",
    "            s = s.strip()\n",
    "            s = s.replace('\\n', '')\n",
    "            s = s.replace('\\t', '')\n",
    "            if(len(s) > 0):\n",
    "                dictionary[name].append(s)\n",
    "            obj.drop_tree()"
   ]
  },
  {
   "cell_type": "code",
   "execution_count": 5,
   "metadata": {},
   "outputs": [],
   "source": [
    "def parse_data(page, url):\n",
    "    # Script and Style are meaningless\n",
    "    remove_unnecessary('script', page)\n",
    "    remove_unnecessary('style', page)\n",
    "\n",
    "    # Define the dictionary content and the items in it.\n",
    "    # Currently we define it as:\n",
    "    '''\n",
    "    Link_Name: the text show on link name, since in that link it is more relevant, we should store it here\n",
    "    Paragraph: the paragraphs in the page, it is the important things\n",
    "    Title: I just stored the h1, h2, h3, Strong tags here, they are more important content.\n",
    "    Span: The ones in span, they are not important, I just store them and extract them later.\n",
    "    Others: The other content left in the page, it should have less weight.\n",
    "    '''\n",
    "    content = {}\n",
    "    content['Link_Name'] = []\n",
    "    content['Paragraph'] = []\n",
    "    content['Title'] = []\n",
    "    content['Span'] = []\n",
    "    content['Others'] = []\n",
    "    content['url'] = url\n",
    "    content['h1_h2'] = []\n",
    "    content['h3_h5'] = []\n",
    "    content['Strong'] = []\n",
    "\n",
    "    add_to_dict(content, 'Link_Name', 'a', page)\n",
    "\n",
    "    add_to_dict(content, 'Link_Name', 'li', page)\n",
    "\n",
    "    add_to_dict(content, 'Link_Name', 'option', page)\n",
    "\n",
    "    add_to_dict(content, 'Span', 'span', page)\n",
    "\n",
    "    add_to_dict(content, 'Paragraph', 'p', page)\n",
    "\n",
    "#     for tag in ('title', 'h1', 'h2', 'h3', 'Strong'):\n",
    "#         add_to_dict(content, 'Title', tag, soup)\n",
    "    add_to_dict(content, 'Title', 'title', page)\n",
    "\n",
    "    add_to_dict(content, 'h1_h2', 'h1', page)\n",
    "    add_to_dict(content, 'h1_h2', 'h2', page)\n",
    "\n",
    "    add_to_dict(content, 'h3_h5', 'h3', page)\n",
    "    add_to_dict(content, 'h3_h5', 'h4', page)\n",
    "    add_to_dict(content, 'h3_h5', 'h5', page)\n",
    "\n",
    "#         Here since I extract all the read text above, the rest of them will not be duplicated.\n",
    "#         And if there is any BROKEN html, it will read into \"Others\"\n",
    "    for word in page.text_content().split('\\n'):\n",
    "        word = word.strip()\n",
    "        if(len(word) > 0):\n",
    "            content['Others'].append(word)\n",
    "            \n",
    "    return content"
   ]
  },
  {
   "cell_type": "code",
   "execution_count": 6,
   "metadata": {},
   "outputs": [],
   "source": [
    "def load_map_file(path):\n",
    "    with open(path) as f:\n",
    "        map_file = json.load(f)\n",
    "    return map_file"
   ]
  },
  {
   "cell_type": "code",
   "execution_count": 7,
   "metadata": {},
   "outputs": [],
   "source": [
    "# Initialize the parsing result\n",
    "# It will delete what has alread been created!\n",
    "# Don't run this one if it not necessary\n",
    "def clean_result():\n",
    "    map_file = load_map_file('WEBPAGES_RAW/bookkeeping.json')\n",
    "    readed = {}\n",
    "    for path in map_file:\n",
    "        readed[path] = False\n",
    "    with open('WEBPAGES_RAW/already_read.json', 'w') as f:\n",
    "        json.dump(readed,f)\n",
    "    for file_name in os.listdir('Data/'):\n",
    "        os.remove('Data/' + file_name)"
   ]
  },
  {
   "cell_type": "code",
   "execution_count": 57,
   "metadata": {},
   "outputs": [],
   "source": [
    "def read_and_write(max_time):\n",
    "    total_result = {}\n",
    "\n",
    "    with open('WEBPAGES_RAW/already_read.json') as f:\n",
    "        alread_read = json.load(f)\n",
    "\n",
    "    map_file = load_map_file('WEBPAGES_RAW/bookkeeping.json')\n",
    "\n",
    "    i = 0\n",
    "    for path in map_file:\n",
    "    #     If it is readed, do not read it again.\n",
    "        if(alread_read[path]):\n",
    "            continue\n",
    "\n",
    "        try:\n",
    "            f = open('WEBPAGES_RAW/' + path)\n",
    "#             f = open('WEBPAGES_RAW/' + path, encoding=\"utf-8\")\n",
    "        except:\n",
    "            print('Something wrong with ' + path)\n",
    "            continue\n",
    "        else:\n",
    "            raw_page = f.read().replace(\"encoding=\\\"\", \"\")\n",
    "#             page = html.parse(f)\n",
    "            f.close()\n",
    "#             print(path)\n",
    "            page = html.fromstring(raw_page)\n",
    "            \n",
    "            url = map_file[path]\n",
    "            total_result[path] = parse_data(page, url)\n",
    "        alread_read[path] = True\n",
    "        i += 1\n",
    "        if(i == max_time):\n",
    "            break\n",
    "    \n",
    "    return total_result, alread_read"
   ]
  },
  {
   "cell_type": "code",
   "execution_count": 59,
   "metadata": {},
   "outputs": [],
   "source": [
    "clean_result()"
   ]
  },
  {
   "cell_type": "code",
   "execution_count": 60,
   "metadata": {
    "scrolled": true
   },
   "outputs": [],
   "source": [
    "# dealed = 0\n",
    "while(True):\n",
    "    total_result, already_read = read_and_write(100)\n",
    "    if(len(total_result) == 0):\n",
    "        break\n",
    "\n",
    "    data_name = str(len(os.listdir('Data/'))) + '.json'\n",
    "    \n",
    "#     Save data\n",
    "    with open('Data/' + data_name, 'w') as f:\n",
    "        json.dump(total_result, f)\n",
    "\n",
    "#     Updata what has been readed.\n",
    "    with open('WEBPAGES_RAW/already_read.json', 'w') as f:\n",
    "        json.dump(already_read,f)\n",
    "#     dealed += len(total_result)\n",
    "    break"
   ]
  },
  {
   "cell_type": "code",
   "execution_count": null,
   "metadata": {},
   "outputs": [],
   "source": []
  },
  {
   "cell_type": "code",
   "execution_count": null,
   "metadata": {},
   "outputs": [],
   "source": [
    "342"
   ]
  },
  {
   "cell_type": "code",
   "execution_count": null,
   "metadata": {},
   "outputs": [],
   "source": []
  },
  {
   "cell_type": "code",
   "execution_count": null,
   "metadata": {
    "scrolled": true
   },
   "outputs": [],
   "source": [
    "with open(\"WEBPAGES_RAW/0/147\",encoding=\"utf-8\") as f:\n",
    "    page = html.fromstring(f.read())\n",
    "    xxx = page.xpath(\".//p\")\n",
    "    for x in xxx:\n",
    "        print(html.tostring(x))"
   ]
  },
  {
   "cell_type": "code",
   "execution_count": null,
   "metadata": {},
   "outputs": [],
   "source": [
    "f = open(\"WEBPAGES_RAW/1/342\")"
   ]
  },
  {
   "cell_type": "code",
   "execution_count": null,
   "metadata": {},
   "outputs": [],
   "source": [
    "s = f.read().replace(\"\\n\", \"\")"
   ]
  },
  {
   "cell_type": "code",
   "execution_count": null,
   "metadata": {},
   "outputs": [],
   "source": [
    "ET.parse(\"WEBPAGES_RAW/1/342\")"
   ]
  },
  {
   "cell_type": "code",
   "execution_count": null,
   "metadata": {},
   "outputs": [],
   "source": [
    "page = ET.fromstring(s)"
   ]
  },
  {
   "cell_type": "code",
   "execution_count": null,
   "metadata": {},
   "outputs": [],
   "source": [
    "soup.find_all('a')[25]"
   ]
  },
  {
   "cell_type": "code",
   "execution_count": null,
   "metadata": {},
   "outputs": [],
   "source": [
    "with open(\"WEBPAGES_RAW/0/141\") as f:\n",
    "    soup = BeautifulSoup(f.read())\n",
    "#     soup = BeautifulSoup(f.read().replace('iso-8859-1', 'utf-8'))"
   ]
  },
  {
   "cell_type": "code",
   "execution_count": null,
   "metadata": {},
   "outputs": [],
   "source": [
    "soup.find_all('a')[21]"
   ]
  },
  {
   "cell_type": "code",
   "execution_count": null,
   "metadata": {},
   "outputs": [],
   "source": [
    "with open(\"WEBPAGES_RAW/0/147\", encoding = \"utf-8\") as f:\n",
    "    k = f.read()"
   ]
  },
  {
   "cell_type": "code",
   "execution_count": null,
   "metadata": {
    "scrolled": true
   },
   "outputs": [],
   "source": [
    "k.replace(\"windows-1252\", \"utf-8\")"
   ]
  },
  {
   "cell_type": "code",
   "execution_count": null,
   "metadata": {},
   "outputs": [],
   "source": [
    "soup = BeautifulSoup(k)"
   ]
  },
  {
   "cell_type": "code",
   "execution_count": null,
   "metadata": {},
   "outputs": [],
   "source": [
    "soup"
   ]
  },
  {
   "cell_type": "code",
   "execution_count": null,
   "metadata": {},
   "outputs": [],
   "source": [
    "soup = BeautifulSoup(k)"
   ]
  },
  {
   "cell_type": "code",
   "execution_count": null,
   "metadata": {},
   "outputs": [],
   "source": [
    "with open(\"WEBPAGES_RAW/0/147\",encoding=\"utf-8\") as f:\n",
    "    page = html.fromstring(f.read())"
   ]
  },
  {
   "cell_type": "code",
   "execution_count": null,
   "metadata": {},
   "outputs": [],
   "source": [
    "with open(\"WEBPAGES_RAW/0/147\",encoding=\"utf-8\") as f:\n",
    "    page = html.fromstring(f.read())\n",
    "    xxx = page.xpath(\".//p\")\n",
    "    for x in xxx:\n",
    "        print(html.tostring(x))"
   ]
  },
  {
   "cell_type": "code",
   "execution_count": null,
   "metadata": {},
   "outputs": [],
   "source": [
    "page.xpath(\".//p\")"
   ]
  },
  {
   "cell_type": "code",
   "execution_count": null,
   "metadata": {},
   "outputs": [],
   "source": [
    "property_list_reg = \".//span\""
   ]
  },
  {
   "cell_type": "code",
   "execution_count": null,
   "metadata": {},
   "outputs": [],
   "source": [
    "with open(\"WEBPAGES_RAW/0/147\",encoding=\"utf-8\") as f:\n",
    "    page = html.fromstring(f.read())"
   ]
  },
  {
   "cell_type": "code",
   "execution_count": null,
   "metadata": {},
   "outputs": [],
   "source": []
  },
  {
   "cell_type": "code",
   "execution_count": null,
   "metadata": {},
   "outputs": [],
   "source": [
    "with open(\"WEBPAGES_RAW/0/147\",encoding=\"utf-8\") as f:\n",
    "    page = html.fromstring(f.read())\n",
    "property_list_reg = \".//p\"\n",
    "property_lst1 = page.xpath(property_list_reg)\n",
    "len(property_lst1)"
   ]
  },
  {
   "cell_type": "code",
   "execution_count": null,
   "metadata": {},
   "outputs": [],
   "source": []
  },
  {
   "cell_type": "code",
   "execution_count": null,
   "metadata": {},
   "outputs": [],
   "source": [
    "property_list_reg = \".//span\"\n",
    "property_lst2 = page.xpath(property_list_reg)\n",
    "len(property_lst2)"
   ]
  },
  {
   "cell_type": "code",
   "execution_count": null,
   "metadata": {},
   "outputs": [],
   "source": [
    "a = property_lst1[0]"
   ]
  },
  {
   "cell_type": "code",
   "execution_count": null,
   "metadata": {},
   "outputs": [],
   "source": [
    "a.text_content()"
   ]
  },
  {
   "cell_type": "code",
   "execution_count": null,
   "metadata": {},
   "outputs": [],
   "source": [
    "a.clear()"
   ]
  },
  {
   "cell_type": "code",
   "execution_count": null,
   "metadata": {},
   "outputs": [],
   "source": [
    "a.drop_tag()"
   ]
  },
  {
   "cell_type": "code",
   "execution_count": null,
   "metadata": {},
   "outputs": [],
   "source": [
    "property_list_reg = \".//span\"\n",
    "property_lst2 = page.xpath(property_list_reg)\n",
    "len(property_lst2)"
   ]
  },
  {
   "cell_type": "code",
   "execution_count": null,
   "metadata": {},
   "outputs": [],
   "source": [
    "def cal_len(html_page, tag):\n",
    "    return(len(html_page.xpath(\".//\" + tag)))"
   ]
  },
  {
   "cell_type": "code",
   "execution_count": null,
   "metadata": {},
   "outputs": [],
   "source": [
    "len(property_lst1)"
   ]
  },
  {
   "cell_type": "code",
   "execution_count": null,
   "metadata": {},
   "outputs": [],
   "source": [
    "len(property_lst1)"
   ]
  },
  {
   "cell_type": "code",
   "execution_count": null,
   "metadata": {},
   "outputs": [],
   "source": [
    "cal_len(page, \"p\")"
   ]
  },
  {
   "cell_type": "code",
   "execution_count": null,
   "metadata": {},
   "outputs": [],
   "source": [
    "with open(\"WEBPAGES_RAW/0/147\",encoding=\"utf-8\") as f:\n",
    "    page = html.fromstring(f.read())\n",
    "property_list_reg = \".//p\"\n",
    "property_lst1 = page.xpath(property_list_reg)\n",
    "len(property_lst1)"
   ]
  },
  {
   "cell_type": "code",
   "execution_count": null,
   "metadata": {},
   "outputs": [],
   "source": [
    "for i in range(len(property_lst1)):\n",
    "    text = property_lst1[i].text_content().strip()\n",
    "    if(text != ''):\n",
    "        print(text)\n",
    "    property_lst1[i].drop_tree()"
   ]
  },
  {
   "cell_type": "code",
   "execution_count": null,
   "metadata": {},
   "outputs": [],
   "source": [
    "cal_len(page, \"span\")"
   ]
  },
  {
   "cell_type": "code",
   "execution_count": null,
   "metadata": {},
   "outputs": [],
   "source": [
    "a"
   ]
  },
  {
   "cell_type": "code",
   "execution_count": 44,
   "metadata": {},
   "outputs": [
    {
     "data": {
      "text/plain": [
       "2"
      ]
     },
     "execution_count": 44,
     "metadata": {},
     "output_type": "execute_result"
    }
   ],
   "source": [
    "with open(\"WEBPAGES_RAW/0/10\", encoding=\"utf-8\") as f:\n",
    "    page = html.fromstring(f.read().replace(\"encoding=\\\"UTF-8\\\"\", \"\"))\n",
    "property_list_reg = \".//p\"\n",
    "property_lst1 = page.xpath(property_list_reg)\n",
    "len(property_lst1)"
   ]
  },
  {
   "cell_type": "code",
   "execution_count": 45,
   "metadata": {},
   "outputs": [
    {
     "data": {
      "text/plain": [
       "[]"
      ]
     },
     "execution_count": 45,
     "metadata": {},
     "output_type": "execute_result"
    }
   ],
   "source": [
    "page.findall(\"html\")"
   ]
  },
  {
   "cell_type": "code",
   "execution_count": 62,
   "metadata": {},
   "outputs": [],
   "source": [
    "f = open('WEBPAGES_RAW/0/152')\n",
    "raw_page = f.read().replace(\"encoding=\\\"\", \"\")\n",
    "f.close()\n",
    "page = html.fromstring(raw_page)\n",
    "\n",
    "total_result = parse_data(page, \"Idon'tCare\")"
   ]
  },
  {
   "cell_type": "code",
   "execution_count": 68,
   "metadata": {},
   "outputs": [
    {
     "data": {
      "text/plain": [
       "'I\\x95¤\\x85þû¹N\\x86\\x92¯\\tÕh¥µ$×ç\\x9c\\\\\\x9f{±Íôãé\\x90\\x90\\x93q\\x96Îp©CLe\\x9b8ÝÍ\\x9c¿¾~\\x9eÎÇù4BÓbæìËòéÆó\\x8eÇ£íÍA\\x9f²Ô\\x8d²\\x83S\\x8fß\\x9c\\x8a¸\\x859r7Ëw£¼\\x7fV÷ë\\x8a3\\x89Ó¢Ôid\\x90UÄ7E¼Ï\"]VYüàÞAç/qêíMòäm³ü\\xa0ËÂ«¹Þ!\\x7f©¥ä{\\xa0î©Ø8\\x97i-qd\\x81*d\\'\\x86ÔTò\"]ö+Ù\\x99Ôäº4òøjC\\x98\\x7f\\x98®>eÑóÁ¤å|º²ì8ÒÉºÌ\\x9f#²ÄDÏ(\\x84w\\x9ffÎ\\x9cùT\\x97Ùa\\x91çú\\x95Ø+Ö@4#\\x9a-\\x88ö\\x89\\x96D+¢¢C¢\\x81â\\x8e \\x80@ Ä1Ä1«\\x838\\x868\\x868\\x868&±L\\x89±\\t~}}28C²$_Èåÿùý;Þ\\x7f!wC1§6\"Yîu¾C\\tJ(\\x99 i|\\x9cßÐ]\\x82AïWú© JÆß¬\\xadÃ\\x90\\x7fb3gB]!\\x84ï\\x87\\x8a*¦$ESz!4\\x86ºA\\x84p\\x80Q&ñ]*\\x9b!\\x9fHWP¦ÂÀç\\x92\\x94J ÊU\\\\'"
      ]
     },
     "execution_count": 68,
     "metadata": {},
     "output_type": "execute_result"
    }
   ],
   "source": [
    "total_result['Others'][3]"
   ]
  },
  {
   "cell_type": "code",
   "execution_count": 70,
   "metadata": {},
   "outputs": [
    {
     "name": "stdout",
     "output_type": "stream",
     "text": [
      "PNG\n",
      "\u001a\n",
      "\u0000\u0000\u0000\n",
      "IHDR\u0000\u0000\u0002X\u0000\u0000\u0001,\b\u0006\u0000\u0000\u0000\u001f=Í\u0000\u0000\u0000\tpHYs\u0000\u0000\u0000\u0001\u0000\u0000\u0000\u0001\u0000O%ÄÖ\u0000\u0000\u0004NiTXtmolSource\u0000\u0001\u0000EN-US\u0000molSource\u0000xÅW]oâ8\u0014}_ae_Ä×vì¤\u0002F,Ó*Õ2«Ý·Ê\n",
      "\u0006¢\n",
      "I¤",
      "þû¹N¯\tÕh¥\u0005µ$×ç\\{±Íôãé\u0017\u0017qÎ\u001c",
      "p©CL\u001ae8ÝÍ¿¾~\u0004ÎÇù4B\u0010\u0002ÓbæìËòéÆóÇ£\u001bíÍA²Ô²Sß¸",
      "9r7Ëw\u001e",
      "£\u0014¼V÷ë3Ó¢ÔidUÄ7E\u0015¼Ï\"]VYüà\u0011ÞAç/qêíMòäm³ü ËÂ«¹Þ!©¥\u001fä\u0003{ î©Ø8i-qd*d\u001b'ÔTò\"]ö+ÙÔäº4\u001bòøjC\u001c",
      "\u001d",
      "®>eÑóÁ¤å|º²ì8ÒÉºÌ#\f",
      "\u001c",
      "²ÄDÏ(\u0017wfÎ\u0001ùTÙaçúØ+\u001bÖ@4#\u0013-öD+¢\u0003¢C¢â\u001f\u0003\u0002\u0000\u0011\u0010@\f",
      " \b\u0010\u0005\b\u0003Ä1Ä1«8888&±L±\t~}}28C²$_Èåÿùý;Þ!wC1§6\"Yîu¾C\tJ(\u0000i|ßÐ\u000f]\u000eAïWú©\u0016\u0000JÆß¬­Ãb3gB]!ï*¦$ESz!4ºA\u0010\u0002\u0002pQ&\u0014ñ]*!HWP¦ÂÀç\u0007J ÊU\\\n",
      "¥¤\u001f0\u001aÐP\u0011p9çR",
      "À `\u0001åýD`\u00024\b\u0019E-Ôaòv\u0005t\"\u0018\tLCJà<\u0000|°OC\u001e",
      "Öìwâã{d\u0012àüA\u0005\u0002Ð\u0014\n",
      "Ìg\u0015Y¹¡\u0004\u0003¾À1è\u0006hhaãô\u0005Æ$\u001a¾±°åß\u000b",
      "\u0005=\u001aP/\u001f*{,pÈ«­:¸,àÍ\u0017Ã\u00123_6^Ê²fHö@\u0018Âvñ¡¥%úZ\u0014=TX\u0016ÎÚ\u001a¶ÒÀ®ò!ÙGÉ¾O&8UÕ\tùn;1ßv\u00016g[«\u001bÂ¼\u0000¬·ê?\u0012\u001b~(³wä?àÅ¿\u0018Ê\u001fWJïm©O\u001f³tÓ¸$ñfæ<bsXÈf[°ïË¨C²|crÜ ¬",
      "6\t¬M°î8·\tv}\u001e",
      "'6Á®æã\u0004¿M°\u000b",
      "ÿ\u001ba1DmÝ&Æ\tªM¨6qFÐñµÚÆ)aRmYã\u0014EgêW)ÝW»â¸ÁÐ)z½¾qØ \u000fp®T\u001e",
      "Dßç+µNñë\n",
      "½\u0005¯Kl¾¬\u0005¾ß\n",
      "¨u:£>\u001a\\É Ó\u001c",
      "õQâ§3è4N}(¹A§sêCÌÏfÀhßQvmQè4U}ºÂé®$Õk¼©\u0018\u001fà\\i*&\u0006ê3ØU^c",
      "ôÎ\u0007O¼ì\u001d",
      "JW·ìXÉg8$NÍ2K2Tû",
      "RA·[|b\u001e",
      "-Ò]G=\u0010Ô\u001e",
      "ô÷FoÖÿÆöèæ²úöÞ¤»ro\u0003²\u000eü\u001d",
      "oê{R©ã¤Ô",
      "¹ÅÊ<KY£x¾K7ædwööx\u0015¾»ÀPÂ9'ý\u001bâþÈâ´<{bÔ.®ávm\u0004R\u0016Y²E(jµðhâÝ¾,laX)4\tomÃø5Ãß3\f",
      "þ\u0017ÃFgOìýæµL ?pbL«#BaÌIïòcéÃÔÃóojRï¯¶1]A\u0000\u0000$\u001aIDATxÚíÝ\u000fP]åÇq4Ð¥ìJmÆ²]ê2+ÙI&1Sé\u000eu±¡)Yi\u0013#éÒ5\u0013ãjÌ&.SÙllÙa+ãD©©\u0013·l\u0003©±Ã(µè²I6%\u0016'ÑÑ4C²hØ4º¡´´ÒHgùãI\u0002ráþ9÷Þs/ßÏ\f",
      "c@\u0002säýå}ßó¼\u0019\u0006\u0000\u0000\u0000_ep\t\u0000\u0000\u0000\bX\u0000\u0000\u0000\u0004,\u0000\u0000\u0000\u0002\u0016\u0000\u0000\u0000\bX\u0000\u0000\u0000\u0004,\u0000\u0000\u0000\u0002\u0016\u0000\u0000\u0000\bX\u0000\u0000\u0000\u0004,\u0000\u0000\u0000\u0002\u0016 +(pß\u0000\u0000\u0004,\u0000ñ\n",
      "XÃ#f\u0003fýou¿nÖÕûÑ·CÇÜÏñÞ\u0006ßår\u0002\u0000\u0001\u000b",
      "Å\u0001j&Ãy\u00056]`\u0019¥\u0016ñ[ö²ñoYeV´Ö¬´Æ¬ì^³u\u000fmyÌl[Yë^7 >Ãí\u0001@À\u00020\u0002Ö\u0007)°±?/pBÐØù©?gä½3XGOºÁ©óU³æN³¦çÍêÝ`¥¥ µà\u000e³y«.±Ü\n",
      "7UÖÕ=a¶ý9wÆL_\u001b\u0000\bX\u0000\u0010¡¾Sfm\u0007ÜPµþa7\u0015Þv1|yÁkë\u000fÝÐÆ\u0012$\u0000\u0002\u0016\u0000DI³WÅÒrâ\u0007ÜY¯Ì¥nèÒÒ£ÂØÎ\u0017Ìzû¹V\u0000\bX\u0000RòooI4zÎ¬ç¸»ì¨åFoQÿ]Yç1-QZÎ\u0004\u0000\u0002\u0016èÍ¢¶\u000b",
      "Ú\u001fÖÞmVóèÅY®üÕfÕîÇÙÇ\u0005\u0005åCàÒÒ¡f´ô$£\u0002öuivKû½\u0000\u0005\u00001Ðâ¾#îì6Ëk9±xYC\u000b",
      "í!\u0000\u0010°\u0000ÄSGÙÂ",
      "fYYfóç½øbÚþ¨ÁRËÅÕnØÒ\u001baf\u000b",
      "\u0000\u0001\u000b",
      "\u001c",
      "1»æ\u001a³Ã§~?ééCõÜÒ~-",
      "--#ª]ÄÐYÊ\u0002\u0000\u0001\u000b",
      "@,n½Õ¬¥eâÇví2»åYu\u0019:\u000eºm\u001fòV¸û¶ô¢ZD\u0000\u0000\u0001\u000b",
      "@äæÎ5;wnâÇô¾>>\u000b",
      "iÏZ@xKz*Q\u001bæy\u0012\u0011\u0000\u0001\u000b",
      "@\u0004ºCüñÖ~¬YNX«Á©f´t:É³|\b\u0005`f©\u001a\u001d",
      "ø±Y<5\u0015",
      "*",
      "+uWË\u0007",
      ".5;fqû\u000f\u0005 |«W»{®.¥÷µ7\u000b",
      "\u0013¨;¼\u001aj3¼\u000fË7»Z\u0013°\u0000\u0010°Ù¬«Ëlûö\u001fëíu\u001aÔÓòÊ+fùù\u0017ßÇ4å\u0005­Ml'x\u0001\u0004,`öéë3«¨0ËÌ4«©ùèÿWß«ë®s÷]-ZÖ}°|¿´§Æ/í}nÐRçøï§\u0015mP\"`\u0001\u0004,`ÖÐÞªúz³\u001c",
      "³ÒRw\u0006\u000b",
      "q¡\u0003¦\u0015°´GKg \u000e\f",
      "Î²\u0005\u0005¤½±1³;Ý2/Ï¬©Éý\u0018âNÍK5£¥'\u000fkÇ/ûð\b×\u0004\u0000\u0001\u000b",
      "H\u0011¾×lñbwÖª¶Ölhk\u0004Úü®^Zj\\ªC¦µA>ýGo\u0000\bX@:øãñãfkÖ¸û¬´ßj`\u0012\u0000ÍîQ<",
      "·ÍÂ'\u000e\u0001\u0010°T5::j?Ø¼Ù~Ùev^\u00076ëàf?\u0003Ù\u00133-\u0013j¹Pû³´|¨ýZÁý\u0005\bX\u0000&jkk³yóæYnn®=wÏ=66\u0012ÃP\u0003-\u0003°o\u0014¬\u0014°\u0014´\u001aZÜcy\bX\u0000\u0001\u000b",
      "@@ôõõYyy¹effÚÆ\u001bmxxÖÏ¿ðBì!Ê\bsoQGG-Z´È²²²ß3ù÷é¬Ãy«Ü¥C\u001d",
      "2\u001243ª\u0019Rµò?V\u001e",
      "\u0000\u0001\u000b",
      "H\u001f§O¶5kÖXvv¶UVVZOO\u000f\u0017%`\u0001ëàÁvõÕWÛË/¿<íçiÙ°²Þíµñ\u001f&­¦³jF{øðÔï\u0003 `\u0001©hllÌ¥À¢¢\"gi\u0010Á\f",
      "X+V¬°§z*ìïµ{¿{Æ¡6Áëpé@Ò±I--\u0013?¦ãn¹",
      "b\u0001\bX@júÎw¾cùùùN¸jjjrÂ\u0016\u001b°æÎë<x\u0010\tÍ^­{ÐÍªo\u000e`K\u0007\u001d",
      "ü}nÒ1\u000e\u0004\u0007\bX@*Órà²eËåA$.`",
      "z6",
      "Cû±´/Ký³\u0002uäN¨Iû±\u0000\u0010°TTPPà,\u000f\"±\u0001k¦ë×sæÌ±\u0012;pàÀ",
      "_qÅ\u0015\u0011Ï`]ÊÛ³Ülç\u000b",
      "\u0001¹ ©ü31\u0005\u0010°\u0000\u0002\u0016ü\u000eX\u0013'NØW^yáýo¾ÙvìØ\u0011ókPR",
      "¬òÍ\u00018ngõjwÏÕ¥ô¾öf\u0001 `\u0001\u0004,ø\u001d",
      "°öìÙ33.\u0006\n",
      "ÍfåååYggç´ß#%_-\u0013\u0016op[:ô\u001c",
      "Oà\u0005Ð)\u0000îõÓñKzjPO\u000fÊ+¯åç_|\u001f\u0000\u0001\u000b",
      " `Á¯¥÷ÕïêÌ3\u0013>þì³ÏÚüùó%ÄP{·ô4hqq±\u001d",
      ":thÚ×¢\n",
      "ï[\u001e",
      "sg³Ô?+®\u001bàunå-Úøg6ùu©ïÕu×¹û®Æfú`\u0001\u0004,",
      "¸QK\u001bo¼1âßçõ4S³Øªª*\u001b\u001c",
      "\u001c",
      "öóµ\u001fK!KO\u001bÆ¥\u0003¼j,7×=(¼«\u001b\u000b",
      "\u0010°\u0000\u0002\u0016++§éÔ_3YzZ´¶¶vÚ®ü½ýîr¡\n",
      "\u0007ßõéÅ«Cû\u0005fyyfMMþc\t\u0005\u0010°\u0010\n",
      "Í`-Ô\u001121R3íÝÒÙííí!?OÁª´Æ\n",
      "Z]½1|C\u0002PQá¶`X·Î]\u001e",
      "\u0004@À\u0002\bXHê_\u001fî­Ò^«Ã>\u001d",
      "\u0019£ö\u000e\n",
      "\n",
      "\n",
      "ÎlÖ%KBîÏÒ\u0012á\u0007Ì²¹O\u001bFD3dµµfãI­ÔÝÀ\u000e\u0005\u0010°î\u0006\u0006\u0006¬¢¢Â\tpÕÕÕ!8ÜúÃñ´ÔÝ\u0004?Óæw\u0000°õj\u001bËÉq\u000fõÞ½Ûßå@\u000e\u000b",
      "\u0007\bX\u0000\u0001\u000b",
      "© »»Û\u0016,X`9ã¡hëÖ­S\u001e",
      "Ôº×Ýü®\u0019­P!KgW\u0016\u0016\u0016ÚÖÌLë]±Âld$\u001e",
      "",
      "JÀ\u0002\bX\u0000\u0001\u000b",
      "©A¡Jû³T\u0007:²µµõ#ãm~W\u0007øK0Ô\u0006úòòò\u000b",
      "3a\u0019#H\u0001\u0004,\u0000\u0004,|hddÄ6nÜè´uPhRxºÔé3fEkÝ'\f",
      "ß8uÖêêê½\\\u0001ëò³í\u0002\u0001\u000b",
      " `\u0001\u0004,¤ÞÞÞ\u000b",
      "û³ÔGkè§ÿôá§WþÆ²>ÿKWPlÛ¶mrY\u0011\u0000\u0001\u000b",
      " `\u0011°0\u0005ÍJ©\u001b|nn®óäáþýû'\u000f32sí3_}ÓþjÍ\u000760Èu\u0002\bX\u0000\bXÚ:466ÚÇ?þq»ì²ËlåÊÖÓÓãìÃ*Ù4^;Ufýoq\u0000\u0002\u0016\u0000\u0002\u0016\"öÚk¯ÙC\u000f=4ácz¢peYn",
      "1\u0005\u0010°\u0000\u0010°à§ûÌòW3\u0005\u0010°\u0000\u0010°à\u001b-\u0017*di¹,\u0005\u0005CÚ8\f",
      "åz\u0000\u0004,\u0000\u0004,øbä=÷èÅÕî¯\u0001\u0010°\u0000\u0002\u0016\u0001\u000b",
      ">",
      "¬%woØñ\u001d",
      "\u0000\u0001\u000b",
      " `\u00011PÇwíÇÒ±:Ìd\u0001\u0004,`Öêìì´ÁAv'Ã?GOå­þh\u0000\u0004,\u0000@ö\u001d",
      "1Ë^f¶å1®\u0005@À\u0002\u0000ø¦uïø_î¥fMÏs-\u0000\u0002\u0016\u0000À7\n",
      "-fKÍº_çZ\u0000\u0004,`èèè°E\u0016YVVedd8o\u0017þPfLýÇ2ÔÇP¼#uúNq-\u0000\u0002\u0016æ\u000e\u001e",
      "<hW_}µ½üòË\u0011\u0005)\u0002\u0016\"¥\n",
      "Å\u001bÜF¤<Y\b\u0010°´¶bÅ\n",
      "{ê©§Bÿ¡$`ÁG^ûªûy²\u0010 `\u0001ilîÜ¹6::JÀBÂô\u001c",
      "w,¬oæZ\u0000\u0004, ]ÿÐÍ\u0010¼=YS½\u0001ÑÚù»é½·k\u0001\u0010°4tÅ\u0015WÄ<¥_Ï3ÇJJJìÀ\u0003\\TE\n",
      "Hµ\\¨eC\u0000\u0004, ­Ü|óÍ¶cÇ\u0002çÄ\u0013våWrQ\u0011\u0016oÓ»Î,d?\u0016@À\u0002Òfòòò£rb\n",
      "X{öì±[o½°©eCÎrwÉ\u0010\u0000\u0001\u000b",
      "H+Ï>û¬Í?ßYæ¶\u000fÞW/­3gXïAd;Ý5ÀQ\u0000\u0001\u000b",
      "ÀG©ÝÃ7ÞÈ",
      "@Ä*ëÍJkÜeC\u0000\u0004,\u0000¨\u001b<\u0010©á\u0011³\u0005wm|k\u0001\u0010°\u0000L \u0019¬",
      "\u000b",
      "\u0017r!\u0010\u0015¯?VW/×\u0002 `\u0001¸°oKû¸\u000e\u001f>Ì\u0005AÔÔ|T­\u001b8J\u0007 `\u0001\u0000|¢v\n",
      ",\u0015\u0002\u0004,\u0000ÏÔºA]ÞY*\u0004\bX\u0000\u0000\u001f5´¸3Y\u0000\bX\u0000\u0000¨]Ã¼UfÏp-\u0000\u0002\u0016\u0000À7\u001d",
      "\u0007Ý§\n",
      "µd\b\u0005\u0000ð\u000eV\u0003R\u0000\u0004,\u0000ONqg±:_åZ\u0000\u0004,\u0000o´\u000f«h­ÛÂ\u0001\u0000\u0001\u000b",
      "\u0000à\u0003mxWóÑ¦ç¹\u0016\u0000\u0001\u000b",
      "\u0000à¶\u0003fy+èð\u000e\u0010°\u0000\u0000¾*Þ`VÛÄu\u0000\bX\u0000\u0000ßxA\u000f\f",
      "r-\u0000\u0002\u0016\u0000À7U÷­ë\u0000\u0010°\u0000\u0000¾QÓQÍbõös-\u0000\u0002\u0016\u0000À7j>ª,\u0000\u0004,\u0000O4Qjvô$×\u0002 `\u0001\u0000|³îA³²{¹\u000e\u0000\u0001\u000b",
      "\u0000à\u001bÍbe.e\u0016\u000b",
      " `\u0001\u0000|UYÏ^,\u0005\u0000ðUW¯;E_,\u0005\u0000ðQÉ&úb\u0001\u0004,\u0000¯Ú»Ý¾Xïr-\u0000\u0002\u0016\u0000À7«9£\u0010 `\u0001\u0000|Õº×,o",
      "Ùè9®\u0005@À\u0002\u0000øBÁJ\u0001k[\u001b×\u0002 `\u0001\u0000|Só¨YAÙØy®\u0005@À\u0002\u0000øB\n",
      "GÕ²¡óU®\u0005@À\u0002\u0000ø¦´Æle\u001d",
      "×\u0001 `\u0001\u0000|£ÍîjÙ0tk\u0001\u0010°\u0000\u0000¾`³;@À\u0002\u0000Ä6»k©\u0010\u0000\u0001\u000b",
      "\u0000à\u0013o³;ç\u0013\u0002\u0004,\u0000ÜeV÷\u0004×\u0001 `\u0001\u0000|ÓÐb¿X\u0000\u0001\u000b",
      "\u0000àÓgè\u0005\u0010°\u0000\u0000¾Ó2áÆG¸\u000e\u0000\u0001\u000b",
      "\u0000à\u001bµjÈ­`\u0010 `\u0001\u0000|Óÿ»Lxè\u0018×\u0002 `\u0001\u0000|Ã2!@À\u0002ÂWPà¾",
      "ûq~.j\"\u001d",
      "¶0Ô7\u0015ÞFy\u0000\u0004,EÀâÚùö³õ\u001c",
      "\u001f\u001fTJÍúNQ\"\u0000\u0001\u000b",
      "\u0000\u0010}ðdÞ*³Æg¸\\\u0000\u0001\u000b",
      "``\u0004uáõ\u000foæò\u0002\u0004,\u0014Ô",
      "oÚ»Ý§\tGÞã\u0012\u0005\u0000/GÜÕÕËµ\u0000\u0001\u000b",
      "\u0000fø\"ãâ\u001b0CMÐ®\u0001 `\u0001\u0000|VÛdVZÃu\u0000\u0001\u000b",
      "\u0000î\u0012¸\u0017oß\u0011·]ÃÐY.;\bX\u0000\u0018LAMøB\u001bÜµ\u000fKA\u000b",
      " `\u0001^GÙÂ",
      "fYYfóç½øbz\f",
      "¦©ôsQ\u0013)ós©£;ý°@À\u00020½#ãÿ\u0014¿æ\u001a³Ã§~ &&P?¬²{)\u0013\u0010°\u0000LçÖ[ÍZZ&~l×.³[náç¢&¨)´\u001d",
      "0ËYn6vR\u0001\u0001\u000b",
      "@(sç;7ñcz_\u001fçç¢&¨ÐyÚèÞÿ\u0016¥\u0002\u0002\u0016RBüQÑ\u001e",
      "\u0015~.jf°vï§T@À\u0002fp7ë_ï££áý«~lÌ¬¤Älûv÷×>»þú\u001d",
      "þ}±H~.jPÉ&·'\u0016@À\u0002\u0018L§¶zµ»\u000fåRz_ûU¦ÒØhmVTdÖÕ\u0015ÜÁ4Ò &\" pÅÁÏ `\u0001\b­·×}êÈ}^yÅ,?ÿâûS\u0019\u001c",
      "4«ª2ËÌ4«¬4ëïOî`ªaß¾Ø.P\u0013ajÝk·R\u0001\u0001\u000b",
      "ÀtÔ\u000b",
      "èºëÜ½(\u0016",
      "ß\u001bèÐ!³ÅÙkï±÷þïLT\u0003h¨·\u0019\n",
      "\n",
      "UW»ú5þý\\ &fpô$\u001d",
      "ÝAÀ\u0002\u0010«ÉûV&kj²w>ñIûößÔWÿ\u0013ÿÙ\n",
      "íõÑ²Tn®Ya¡Y{;÷HhM¨ECö27h\u0001\u0004,\u0000Ñ)\u001d",
      "ÿ§zE",
      "ÙÀ@ÈOùÝïÎÙ÷¿È>÷¹öo<o'Nü:>©}´×''Ç\u001d",
      "PGF¸?ÔDRjbÉ]îR!@À\u0002f«XÏjëës\u0007Tmd®©1\u001b\u001e",
      "\u000eù©o¼ñîø§t:jCÃKÎ ëÇ`ú«_ýÖþ«ø6÷Q{-ý>\u001d",
      "kCM¤_MIÜy\u0010\u0004,\u0015û×Ñ²ö×h\u0019¦¾~Úe¢ýì}å+OÁÍÖÕ5\u0010õ·üÃ\u001fÞ·\u001fü Ç>ÿùÇmóW·ÛÏþ4×u5±å1Ì\u0001\u0001\u000b",
      "ÔóhÞ<{ïSùöóï=\u001d",
      "òÓÎ;o?ùÉ\t{çßGõm´wgùò]¶lYëø8ÞgçÏÀµ§&â_\u0013a\u0006¬æÎñO«âÖ\u0005ÀOCCöË¾f\u000f|v­Ýyg\n",
      "\f",
      "\f",
      "ûö¥_ý\u001d",
      "gÏ¾÷½ÎE\"\u0007NÌ±\u001e",
      ":_u7ºs&!\bX\u0000|§ý5wßý3ð=ôÐËÓî¯Ñ~={ÞòãjiyÍî½wóµ13YR\u00131ÖZ4¨UCo?÷\u001c",
      "\u0004,\u0000q¢=5ZºÑþPK7\u001a4¿õ­=öÛßþqÚÁ\u0014ÔDªÔDæR³}ô®\u0005\u0001\u000b",
      "@<iÍãÿÜ¾ð",
      "'MÈS\n",
      "¦o¾ù\u001bçI2\u0002\u00165\u000e5¡=X;_à>\u0005 \u0001Þ~ûwÎÛT©<òÈ+ö_\f",
      "\u0012°¨¯â\n",
      "f\n",
      "-Ü_\u0010°\u0000$7hjVC{tÞÿ\u0003\u0002\u00165Ò5QqYÍ£ÜG\u0010°\u0000\u0004`0^úß\u000b",
      "KF\u0004,j\"Uk¢ºÑ¬ê~î#\bX\u0000\u00022Jmí\u001e",
      "gÿ\n",
      "\u0001HÕ¨o6+ÙÄ}\u0004\u0001\u000b",
      "@\u0006S5\\¿¾EM¤lM4=oVx\u001b÷\u0011\u0004,\u0000\u0001\u001aLe×®×\bXÔDÊÖ\u000e{Î_Í}\u0004\u0001\u000b",
      "\u0000\u0000ß¨»za\u0001\u0004,\u0000\u0000|ÒÕëvs\u0007\bX\u0000\u0000øäÐ17`¼Çµ\u0000\u0001\u000b",
      "@\u0000ÔÔtúz\u00180¨d\u0018\u0018t\u0003ÖÀ ÷\u000f\u0004,\u0000\u0001 MÌG¼Í",
      "@J×Äà»nÀ:zû\u0007\u0002\u0016\u0000\u0006SP\u0013þ\n",
      "6¥î^,\u0005Á\u0014Ô\u0004\u0001\u000b",
      " `\u0001\f",
      "¦ &\bX\u0000\u0001\u000b",
      "\u0000\u0001\u000b",
      "\u0004,\u0005Á\u0014Ô\u0004\u0001\u000b",
      " `\u0001\f",
      "¦ &\bX\u0000\u0001\u000b",
      "\u0000\u0001\u000b",
      "\u0004,\u0005Á\u0014Ô\u0004\u0001\u000b",
      " `\u0001\f",
      "¦ &\bX\u0000\u0001\u000b",
      "µéÞ½G¹\u0010Hù `\u0005 0\n",
      "\u000b",
      "ÿÑ~ô£=\\\b¤|M\u0010°@À\u0002\u0010? \u0019\u0019ÖÕÕÅ",
      "@J×Äè97`\u001d",
      ":Æý\u0003\u0001\u000b",
      "\u0000)¨\t_\f",
      "\f",
      "º\u0001Kÿ\u0005\bX\u0000\u0018LAM\u0010°\u0000\u0002\u0016À`\n",
      "j\u0005\u0010°\u0000\u0010°ö5Ñýº\u001b°ÆÎsÿ@À\u0002À`\n",
      "jÂ\u0017zzP\u0001\u000b",
      " `\u0001`0\u00055áÖ½fù«¹w `\u0001`0\u00055á/\u0015Tqï@À\u0002À`\n",
      "jÂ7\n",
      "-f%¸w `\u0001\bÐ`úÜsÏq!Ò5QÝhVYÏ½\u0003\u0001\u000b",
      "@\n",
      "\f",
      "\f",
      "Ø¿üeg0ÍÉÉ±Ý»wsQ¨\t+//OÉ(»×¬î\tî!\bX\u0000dxxØ¶lÙâ\f",
      " K,±^zÉy?33ÓJJJ¬·ÃÜ¨Ô«¢µfÛ\u0005\u0001\u000b",
      "@¢Ù¶mÛ,//ÏæÍgMMMÎÇ<}}}VVVæÌ^TVV:³\u0019 &R¥&r+ÌÚ\u000epOAÀ\u0002@\u000e\u001d",
      "²\u0005\u000b",
      "\u001683\u0014[·nµ«ÍÍ\u0017/vf/êêêltt\u000b",
      "HM\u0004º&Nq{`õâ¾\u0005 \u0011\u0003ÏéÓVUUå\f",
      "Î@477;3\u001b\u0005\u0005\u0005ÖÑÑÁÅ¤&\u0002[\u0013=ÇÝ5tû\u000b",
      "\u0002\u00168ÒlDcc£3;¡YÎÎÎ¨¾ÎÐÐUWW;KDÚü|ôèQ..5\u0011¸PÑy«¸Ç `\u0001£;w:ûirssmûöí\u0013öÔDKAuÍ5Î ô¬\t-\u0007j£ûL}°T\u0013Ï-®æ>\u0005 \u000e´§F\u0003^vv¶Õ××;OùM³\u001e",
      "EEE¾7\u0004£&úûû%C}nMMMØõ\u0013¨ºßlÍ\u0003Üo\u0010°\u0000øH\u0003áÆ\u001b=5X²Ñ\u0000ÚÐÐà,5iã³\u0006q¤nMhé°¶¶ÖùÜ+WFõ¤`²k¢´ÆÅ\u0002\bX\u0000|\t:1ÐÒO~~~Â7\u001d",
      "\u000f\u000e\u000e:\u0003²·D¤\u0019\u0010¤VMx³O~",
      "¢dÕö_i\u001f\u0016@À\u0002\u0010¶¶6çI.-Ëhæ`ºGìCÑïÑl",
      "÷\u0016Í×K\u001fá×LH<&áoMhF«¢¢ÂqÒÒa´÷>\b5áµhÐ\u0000\u0001\u000b",
      "@T\u001440jàZ¿~½3c\u0010É §îÜj\u001c",
      "©Ù\n",
      "Í2L~Ó#ø\u001a\u0018µ\u0007G³\u001f\f",
      "¼­­­Î×Õ×Ðãü\b^MèÿiéPû¬Ö­[\u0017÷Æ¡¨fÙËÌÆÎS\u000b",
      " `\u0001w6-{th\u0014¼@¥§Ã4£ 3æ´$té\f",
      "Þ×ÇÕHRÇ£hÀÖÀ¨\u0019p\u001aPêóõ{õ:{zz¸y\u0001¨\tÝ\u0017µhÐìViiiB÷HÅ»&\u001aZÌÜE=\u0005 \u0002ÚS£Gì\u0015ô¦YpÒÒà«`¥A­°°Ð9\u000e%Ù.Ñ²¾·\u0006dÍxD²Ô£#V¼C5«Âþ¬äÕ·t¨:Ð¯%^5QYoVÝH]\u0005 LZÒÓ\u0006dï±ùpë4jàU3I-ÑøñØü¾}ûÙ\u0007mÖ×\f",
      "W{{û",
      "½8ÅàØÄÕ×¢A³V½\n",
      "JK\n",
      "¿k\"5<\u0005 LóçÏ·Ë/¿Üy\u0012+'ïq{-\u0017\u0001U\u0003µ\u0006wíãäëkeîÜ¹e'Nà\u0006Ç±&¼¥Cï>\u0005õ¡\u0003?jBGãhû¡cÔ\u0007\bX\u0000Â áß~ûía¾ÂDj¶B³MñÔÝÝíÌéûE²\tþÇ?þ±³<ôÆ\u001bopãP\u0013ª\u0001",
      "\u0016oöR÷)èb­}GÌr+ÌFÏQ\u001f `\u0001\bö=iù$\\\n",
      ";Z¾KÔæe\u001d",
      "\u0018¬}=ú¾áÎdiyKi¼\\5áµEP\n",
      "¨\u000fVª,ÅÆZ\u0013j.Z¾Ú\u0000\u0001\u000b",
      "@\u001c",
      "\u0002\u00055sèîÙ^ÈÒ2\u0014\u0001+95¡å?µhô!dÐ\u0016\u000fµ&tDNÝ\u0013Ô\u0006\bX\u0000|\u000eXÚÐ®=Wñ^\u0016\f",
      "EËPj\u0013 §Ú\bXÉ\tX\n",
      "¸©pM§zý±Ôú^iy°í\u0000µ\u0001\u0002\u0016\u0000\u001f\u0003ö?i¿6´'6¾«_ÖL³'\u0004¬ÄîÙ\u0012°t\u001b²ÿ\n",
      "\u0004,\u0000¾\u000e¦zL_ðø½Ú\u0001hEÀJTÀÚÖf¶à\u000eê\u0002\u0004,\u0000>\u000e¦jÒ¨¥Au^\u000f\u0002-QêõL×<EÀò3`UÜ7þG©\u000b",
      "\u0010°\u0000ø8jöJ¹Ò<Ò{Íz]\u0004,\u0002V¼\u0003ö_Í[åC\b\u0010°\u0000ø6jïÊ\n",
      "\u0012mtWP¡EÀò+`©±¨ö_©Ñ(@À\u0002àË`ê\n",
      "JCCCzÍÚä®eÂÉâ\u0013°\bX~\u0007¬-\u0015o &\u0000\u0002\u0016àã`ªÍäK,\täë.))\t¹ÙEÀò+`l2ÛúCj\u0002 `\u0001>\u000e¦eee3>±,uuuÎk'`\u0011°â\u0015°GÌ2ºm\u001a\u0000\u0002\u0016\u0000ß\u0006Sí¿\n",
      "ÊÓéui\u001f\u0016\u0001\u0015¯ÕÜiVx»Ñ\u001d",
      " `\u0001ðe0UsQ\n",
      "H>\u0016'\\z]z}S\u001d",
      "\u0002MÀ\"`ù\u0011°*ëiÏ\u0000\u0010°\u0000\u0007S\n",
      "DA\u000e)Ó½>\u0002\u0016\u0001+Ö¥®íy+Ì:_¥\u001e",
      "\u0000\u0002\u0016@À\"`\u0011°|\tXûå,gy\u0010 `\u0001\u0004,\u0002\u0016\u0001Ë·µîA³ªû©\u0005\u0005ø<²\u0007­\u0001ËëÞ¾{?µ\u0000\u0010°8\f",
      "¦yyy~P¯o*\u0004,\u0002V,\u0001«½Û]\u001e",
      "\u001c",
      "\u001e",
      "¡\u0016\u0000\u0002\u0016\u0010Á´¸¸8Ð}°\u0016/^LÀ\"`ù\u001e",
      "°´4¨%B\u0000\u0004, .©BL;¹:ðEÀ6`¼g[áÎb\u0001 `\u0001q\u0019L÷íÛ\u0017è³\b;::\bX\u0004,_\u0003ª=Ú4\u0000 `\u0001q\u0019LGGGnéÛ·o\u000fÔkÞ¹s§³ÿjª\n",
      "î\u0004,\u0002V,\u0001kÉ]î\u0001Ï\u0000\bX@\\\u0007Sý?íÅJ¥×LÀ\"`E\u0013°zûÇ\u0007R³¾SÔ\u0000@À\u0002â<jy0''Ç:;;\u0003ñzµlm\u0004,\u0002¯\u0001kýÃã¿·û\u000f\u0010°\u0004\n",
      "¦[¶lq6»%ýõód#\u0001\u0015iÀò6··\u001d",
      "àþ\u0003\u0004, A©ö:åççÛÖ­[úZ\u001b\u001b\u001b=aÚäNÀJ|M¤Êõ&`±¹\u001d",
      " `\u0001\t\u000fX¢ÆzrO\u0003U2tww;K­­­3~.\u0001ËÿÐµÔý¯¨¨°ÞÞÞ@¿þ²²²\u0003Öâj³º'¸÷\u0000\u0001\u000b",
      "HpÀ\u0012õÒLVB_ãéÓ§­  À6nÜ\u0018Öç\u0013°âS\u0013:HÿOAK÷B÷%4Ã9ù\tÓéj¢ûu³Ì¥ãuv{\u000f\u0010°$\u0004,©¬¬tÂN¢B\u0017®ô}ÃÝ\u0003FÀoMh6³°°ÐQ\f",
      "Z\u000b",
      "hjbÍ\u0003f+ë¸ï\u0000\u0001\u000b",
      "ðúI]{íµÖ××\u0017Öç+ä(ìh&+ÞË",
      "Z\u0016ôÂU¨W©w×í·ßî\f",
      "¦Ç\u001d",
      "ã\u0006Ç©&T\u0007Ú§':õàAOOO`éjâèIwöJ³X\u0000\bXo|òI»á\u001be\u001f\u001d",
      "\u0013nÑr¡~6ÇãéB}]Íh)*Ü¯¯V\u0012\u000b",
      "\u0016,°«®ºÊ¾ùÍo:\u0003+â[\u0013\u0011*//wÂËºuë\u0002·l8SMT7lâ\u0003\u0004, NÔ\u001d",
      "]OèiöbÛ¶ma",
      "\u001am8×LZ8øÕ'K}®4#¢×\u0012Îvñö\u0006yüt=²\u0010Ð±E:|[¡XËá\u0006õx\t§&´çJ­\u0019Z÷r¯\u0001\u0002\u0016\u0010G\u001a\u001458j,**\n",
      "+4é÷¨O~öäDzv¡6%k0×¨%'õ¹©\u0015èûhðÔLfQ¼L5\u001bjB\u0001L÷_¡[oÍÍÍ\tï\u0016IMÔ<jV´vüuç>\u0003\u0004, ATuuµó¯í\n",
      "gÙGKE\n",
      "F\u001aXõû¼ Ú\u0010­Ù\u0004ýïMïëãZ~*))qBfI43û¤A»©©É]Ñfë t§&.2Ý{",
      "2Íj%¢µG¤51<âÎ^í|{\u000b",
      "\u0010°\u0004Ó¿þµE\u0001Há'§ø\u00144à\u0005®Éo\n",
      "T\u001a|µKËKá.)ékë5\u0005e)\u00186t+i6iåÊqÛ\u0015MMÔ7å¯v\u0016\u0000\u0002\u0016\u0014\u0019ÈÍÍuÂ~\u001d",
      "é²\u0006¼Kg°¢\tEjn©&\u001a¬«ªª\u0002Ûø(ÍXzû³ÂÝß\u0017ÏÐ±8\n",
      "WÛÚ¸\u0000\u0001\u000b",
      "H2íÒ¬f.´©=Qû¼å&oOM²:É#¶P¨ò\f",
      "ÕlS{{{Òj¢ñ\u00197`q,\u000e@À\u0002\u0002C3P5ðÎ\n",
      "g3z´ô\u0014¡öÔhD{¶ú5¡Y¦X\u001e",
      "Lµ&\u0014ª\u0014®\u001aZ¸o\u0000\u0001\u000b",
      "\b m\"V\u0013Pí¥fÙp:\u001at½#Yô\"û¬å»Í>Qnö÷ßu÷2i£x{·Ùc»~fQðaÕ÷¼6\n",
      "j(¨`ö\n",
      " `\u0001§¦\n",
      "\n",
      "\n",
      "Î\u0012ÜjkmSfB´ÆÝ8zô(\u00179Ö=8þm©Ùå7e/sßæ|ñÃÿ÷ÏÿÆ._ôö§×ÿUýË/m÷þñ@Õ?u¨ÑRáLLýª\t\u001c",
      "\u0004\bX@JQk\u0005u\\× ¨¶\u000b",
      "\u000eéPPó\u001e",
      "ëW³Q\u0004Wç«n¸R îmÎMcqãè",
      "÷7\n",
      "M^Ml|ÄlÁ\u001d",
      "Ì^\u0001\u0004, Åèìº²²²\u000b",
      "Ë8áìÏÒ\f",
      "\u001aXj õ{©\u0011ñ¡ ÍZÍ\u0014°¼·ËJ?°Ë\u0016¶[íæº¤ÕDß)÷ÌÁÜ?\u0005¤(m>öX\tuÜMÿ",
      "3ìÖ¯_Ïñ6)æoÿiæ`¥@£ ¦%Âd×ÄÊ:³ûèÚ\u000e\u0010°\u0014ç\u001d",
      "¡ãíÏò:kkÐôöÔ¨Û;ÇÛ¤¦;\u001e",
      "4³4t¸úØÌ®ýº;sìÐ¦ÂÞÑÜ7\u0005¤\t\n",
      "Þ\u0011+×\\sÓR}Ô½åÀ\u0014½§ïºÅC",
      "«¬ñ0³ìCï·JdMhÆjqµYm\u0013÷\n",
      " `\u0001iHâk@Õ)zú\u0010©KKm»ÛìceS/\t¶î\n",
      "o).\u00115¡¶\f",
      "óV¹ÝÛ\u0001\u0010°ôü\u0003:>Ò=ÅòënRÛ",
      "[þõb{?ùÙg¿\u001e",
      "ù2\\<kâô\u0019Ú2\u0000\u0004,",
      "\u0014 \u001e",
      "Xe÷º¿ÞþÜí\u0018ÆCVÕýÑ\u001d",
      "\u001c",
      "ÏÐkÒkec;@À\u0002\bX\b4uA×S20è\u0006¬X\u000eMWM´\u001d",
      "p+/Ýd\u000f\u0005\u0010°\u00108ZþS ÒÒGK",
      "A«\tÍX\u0015ÞÆÆv\u0005\u0010°\u00024+¤=MA¯\t\u0005«ªè,\u0001\u0010°\u0000\u0002\u0016\u0012ª¹Ó\n",
      ".A®CÇÜ§\u0019÷\u001d",
      "á~\u0001\u0004,",
      "\u0014 \u0019,íÁ\n",
      "jMèÁ¢µî\u0000\bX\u0000\u0001\u000b",
      ")ÁÛåçÒ[¤51Ý\u00135º{¯èy\u0005\u0010°\u0000\u0002\u0016Rf°4¬¨núûkùRO\n",
      "ªO\u0017\u0000\u0002\u00160«|2ã/ì¿÷ü\u000b",
      "Â4K¤þRÉ¨\t-\u0001z]ã¿ýøÅÙ,¯¡hÓóÜ\u001f\u0005ÌBwfì°ößÇ",
      "Haê+³<öö\f",
      "ÑÔ\u000em¾ôXÕÿæ.\u0007o¦¡(@À\u0002fyÀ:Ñõ6\u0017\"Å©\n",
      "_{\"©\t}_\u001d",
      "Éã",
      ",ý:o",
      "Ù\u0015å4\u0014\u0005\bX\u0000\u0001\u000b",
      "â\u0014¬\u0014°VÖ¹Ëvª¿¾Ýìò&\u001e",
      "0­czæþYW/÷\u0005 `\u0001\u0004,¤¸ÁwÝµä.÷Èx×öY]þÅáÊ{SèÒ!{°\u0000\u0002\u0016@ÀBZ¬â\n",
      "î,G\u0018Í\u001e",
      "¨pk¢ñ\u0019³¬²©\u0003Ö¥AëíìÅ\u0002\bX\u0000\u0001\u000b",
      ")Na¦¾Ù\n",
      "YÚ\u000fµå1³\u0017Ï+Ô\u0012ât}³Â­ëïüèò`¨7µl\u0000@À\u0002\bXHy\n",
      "QeR'õÉ§îØjbèlèåAïB",
      "¯hx\u00105\u0000\u0002\u0016@ÀBÚÐ&x\t¨çznV85¡\u0019)",
      "¨ÉÁJ\u001bÜ\u0015¬¾ö]³þ·¸î\u0000\u0001\u000b",
      " `\u0001a×º·ìK\u001fµºán³ã\\C\u00050\u0012°\u0010qM\\õÕÁêÓf»÷³\u001d",
      " `\u0001 `!ªÐÙ^¸úÔ*w¹`\u0005\u0010°\u0000\\b}æN\u0002\u0016\"ª\t=¨põÐÓþt\u0007@À\u0002ÒÎ¯zmï2ýðkBKÓµy\u0000@À\u0002\u0000\u0000 `\u0001\u0000\u0000\u0005$Ì}\u0005O;o©úõAM\u0000 `\u0001i1ê1\u0006Sj\u0000\bX\u0000|\u0014É`\n",
      "j\u0002\u0000\u0001\u000b",
      "\u0000)¨\t\u0005Á\u0014Ô\u0004\u0000\u0002\u0016À`\n",
      "j\u0002\u0000\u0001\u000b",
      "\u0000)¨\t\u0005 l<1\u0006j\u0002 `\u0001`0\u00055\u0001\u0005¤\u001f@M\u0000\u0004,\u0000\u0000\u0000\u0010°\u0000\u0000\u0000\bX\u0000\u0000\u0000\u0004,\u0000\u0000\u0000\u0002\u0016\u0000\u0000\u0000\bX@º\bõX=ÛS\u0013Ô\u0004@À\u0002À`\n",
      "j\u0002 `\u0001\u0000\u0000\u0005\u0000\u0000@À\u0002\u0000\u0000 `\u0001\u0000\u0000\u0005\u0000\u0000@À\u0002\u0000\u0000 `\u0001\u0000\u0000\u0005\u0000\u0000@À\u0002\u0000\u0000 `\u0001\u0000\u0000\u0005\u0000\u0000@À\u0002\u0000\u0000 `\u0001\u0000\u0000\u0010°\u0000\u0000\u0000@À\u0002\u0000\u0000 `\u0001\u0000\u0000\u0010°\u0000\u0000\u0000\u0010©ÿ\u0007ôæ\u001fG+\u0000\u0000\u0000\u0000IEND®B`\n"
     ]
    }
   ],
   "source": [
    "print(raw_page)"
   ]
  },
  {
   "cell_type": "code",
   "execution_count": null,
   "metadata": {},
   "outputs": [],
   "source": []
  }
 ],
 "metadata": {
  "kernelspec": {
   "display_name": "Python 3",
   "language": "python",
   "name": "python3"
  },
  "language_info": {
   "codemirror_mode": {
    "name": "ipython",
    "version": 3
   },
   "file_extension": ".py",
   "mimetype": "text/x-python",
   "name": "python",
   "nbconvert_exporter": "python",
   "pygments_lexer": "ipython3",
   "version": "3.6.8"
  }
 },
 "nbformat": 4,
 "nbformat_minor": 2
}
