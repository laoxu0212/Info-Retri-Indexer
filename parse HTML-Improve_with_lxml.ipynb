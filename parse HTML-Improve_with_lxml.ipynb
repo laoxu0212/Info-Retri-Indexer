{
 "cells": [
  {
   "cell_type": "code",
   "execution_count": 1,
   "metadata": {},
   "outputs": [],
   "source": [
    "import sys\n",
    "import json\n",
    "import os\n",
    "# from bs4 import BeautifulSoup\n",
    "from lxml import html, etree"
   ]
  },
  {
   "cell_type": "code",
   "execution_count": 2,
   "metadata": {},
   "outputs": [
    {
     "data": {
      "text/plain": [
       "'3.6.8 |Anaconda, Inc.| (default, Dec 29 2018, 19:04:46) \\n[GCC 4.2.1 Compatible Clang 4.0.1 (tags/RELEASE_401/final)]'"
      ]
     },
     "execution_count": 2,
     "metadata": {},
     "output_type": "execute_result"
    }
   ],
   "source": [
    "sys.version"
   ]
  },
  {
   "cell_type": "code",
   "execution_count": 3,
   "metadata": {},
   "outputs": [],
   "source": [
    "def remove_unnecessary(tag, page):\n",
    "    property_list = page.xpath('.//' + tag)\n",
    "    for s in property_list:\n",
    "        s.drop_tree()"
   ]
  },
  {
   "cell_type": "code",
   "execution_count": 4,
   "metadata": {},
   "outputs": [],
   "source": [
    "def add_to_dict(dictionary, name, tag, page):\n",
    "#     If nothing in the dictionary, add it.\n",
    "    if(dictionary[name] == ''):\n",
    "        dictionary[name] = []\n",
    "    property_list = page.xpath('.//' + tag)\n",
    "\n",
    "    if(len(property_list) > 0):\n",
    "        for obj in property_list:\n",
    "#             s = obj.text.replace('\\n', ' ').replace('\\t', ' ')\n",
    "#             s.strip()\n",
    "            s = obj.text_content()\n",
    "            s = s.strip()\n",
    "            s = s.replace('\\n', '')\n",
    "            s = s.replace('\\t', '')\n",
    "            if(len(s) > 0):\n",
    "                dictionary[name].append(s)\n",
    "            obj.drop_tree()"
   ]
  },
  {
   "cell_type": "code",
   "execution_count": 5,
   "metadata": {},
   "outputs": [],
   "source": [
    "def parse_data(page, url):\n",
    "    # Script and Style are meaningless\n",
    "    remove_unnecessary('script', page)\n",
    "    remove_unnecessary('style', page)\n",
    "\n",
    "    # Define the dictionary content and the items in it.\n",
    "    # Currently we define it as:\n",
    "    '''\n",
    "    Link_Name: the text show on link name, since in that link it is more relevant, we should store it here\n",
    "    Paragraph: the paragraphs in the page, it is the important things\n",
    "    Title: I just stored the h1, h2, h3, Strong tags here, they are more important content.\n",
    "    Span: The ones in span, they are not important, I just store them and extract them later.\n",
    "    Others: The other content left in the page, it should have less weight.\n",
    "    '''\n",
    "    content = {}\n",
    "    content['Link_Name'] = []\n",
    "    content['Paragraph'] = []\n",
    "    content['Title'] = []\n",
    "    content['Span'] = []\n",
    "    content['Others'] = []\n",
    "    content['url'] = url\n",
    "    content['h1_h2'] = []\n",
    "    content['h3_h5'] = []\n",
    "    content['Strong'] = []\n",
    "\n",
    "    add_to_dict(content, 'Link_Name', 'a', page)\n",
    "\n",
    "    add_to_dict(content, 'Link_Name', 'li', page)\n",
    "\n",
    "    add_to_dict(content, 'Link_Name', 'option', page)\n",
    "\n",
    "    add_to_dict(content, 'Span', 'span', page)\n",
    "\n",
    "    add_to_dict(content, 'Paragraph', 'p', page)\n",
    "\n",
    "#     for tag in ('title', 'h1', 'h2', 'h3', 'Strong'):\n",
    "#         add_to_dict(content, 'Title', tag, soup)\n",
    "    add_to_dict(content, 'Title', 'title', page)\n",
    "\n",
    "    add_to_dict(content, 'h1_h2', 'h1', page)\n",
    "    add_to_dict(content, 'h1_h2', 'h2', page)\n",
    "\n",
    "    add_to_dict(content, 'h3_h5', 'h3', page)\n",
    "    add_to_dict(content, 'h3_h5', 'h4', page)\n",
    "    add_to_dict(content, 'h3_h5', 'h5', page)\n",
    "\n",
    "#         Here since I extract all the read text above, the rest of them will not be duplicated.\n",
    "#         And if there is any BROKEN html, it will read into \"Others\"\n",
    "    for word in page.text_content().split('\\n'):\n",
    "        word = word.strip()\n",
    "        if(len(word) > 0):\n",
    "            content['Others'].append(word)\n",
    "            \n",
    "    return content"
   ]
  },
  {
   "cell_type": "code",
   "execution_count": 6,
   "metadata": {},
   "outputs": [],
   "source": [
    "def load_map_file(path):\n",
    "    with open(path) as f:\n",
    "        map_file = json.load(f)\n",
    "    return map_file"
   ]
  },
  {
   "cell_type": "code",
   "execution_count": 7,
   "metadata": {},
   "outputs": [],
   "source": [
    "# Initialize the parsing result\n",
    "# It will delete what has alread been created!\n",
    "# Don't run this one if it not necessary\n",
    "def clean_result():\n",
    "    map_file = load_map_file('WEBPAGES_RAW/bookkeeping.json')\n",
    "    readed = {}\n",
    "    for path in map_file:\n",
    "        readed[path] = False\n",
    "    with open('WEBPAGES_RAW/already_read.json', 'w') as f:\n",
    "        json.dump(readed,f)\n",
    "    for file_name in os.listdir('Data/'):\n",
    "        os.remove('Data/' + file_name)"
   ]
  },
  {
   "cell_type": "code",
   "execution_count": 16,
   "metadata": {},
   "outputs": [],
   "source": [
    "def read_and_write(max_time):\n",
    "    total_result = {}\n",
    "\n",
    "    with open('WEBPAGES_RAW/already_read.json') as f:\n",
    "        alread_read = json.load(f)\n",
    "\n",
    "    map_file = load_map_file('WEBPAGES_RAW/bookkeeping.json')\n",
    "\n",
    "    i = 0\n",
    "    for path in map_file:\n",
    "    #     If it is readed, do not read it again.\n",
    "        if(alread_read[path]):\n",
    "            continue\n",
    "\n",
    "        try:\n",
    "            f = open('WEBPAGES_RAW/' + path)\n",
    "#             f = open('WEBPAGES_RAW/' + path, encoding=\"utf-8\")\n",
    "        except:\n",
    "            print('Something wrong with ' + path)\n",
    "            continue\n",
    "        else:\n",
    "            raw_page = f.read().replace(\"encoding=\\\"\", \"\") + \" \"\n",
    "#             page = html.parse(f)\n",
    "            f.close()\n",
    "#             print(path)\n",
    "            url = map_file[path]\n",
    "            try:\n",
    "                page = html.fromstring(raw_page)\n",
    "            except:\n",
    "                print(path + ' is None !')\n",
    "                total_result[path] = {'url':url, 'Link_Name':[], 'Paragraph':[], 'Title':[], 'Span':[], 'Others':[],\n",
    "                                     'h1_h2':[], 'h3_h5':[], 'Strong':[]}\n",
    "            else:\n",
    "                total_result[path] = parse_data(page, url)\n",
    "\n",
    "        alread_read[path] = True\n",
    "        i += 1\n",
    "        if(i == max_time):\n",
    "            break\n",
    "    \n",
    "    return total_result, alread_read"
   ]
  },
  {
   "cell_type": "code",
   "execution_count": 17,
   "metadata": {},
   "outputs": [],
   "source": [
    "clean_result()"
   ]
  },
  {
   "cell_type": "code",
   "execution_count": 18,
   "metadata": {
    "scrolled": true
   },
   "outputs": [
    {
     "name": "stdout",
     "output_type": "stream",
     "text": [
      "4/288 is None !\n",
      "49/385 is None !\n",
      "60/155 is None !\n",
      "60/201 is None !\n"
     ]
    }
   ],
   "source": [
    "# dealed = 0\n",
    "while(True):\n",
    "    total_result, already_read = read_and_write(100)\n",
    "    if(len(total_result) == 0):\n",
    "        break\n",
    "\n",
    "    data_name = str(len(os.listdir('Data/'))) + '.json'\n",
    "    \n",
    "#     Save data\n",
    "    with open('Data/' + data_name, 'w') as f:\n",
    "        json.dump(total_result, f)\n",
    "\n",
    "#     Updata what has been readed.\n",
    "    with open('WEBPAGES_RAW/already_read.json', 'w') as f:\n",
    "        json.dump(already_read,f)\n",
    "#     dealed += len(total_result)"
   ]
  },
  {
   "cell_type": "code",
   "execution_count": null,
   "metadata": {},
   "outputs": [],
   "source": []
  },
  {
   "cell_type": "code",
   "execution_count": null,
   "metadata": {},
   "outputs": [],
   "source": []
  },
  {
   "cell_type": "code",
   "execution_count": null,
   "metadata": {
    "scrolled": true
   },
   "outputs": [],
   "source": [
    "with open(\"WEBPAGES_RAW/0/147\",encoding=\"utf-8\") as f:\n",
    "    page = html.fromstring(f.read())\n",
    "    xxx = page.xpath(\".//p\")\n",
    "    for x in xxx:\n",
    "        print(html.tostring(x))"
   ]
  },
  {
   "cell_type": "code",
   "execution_count": null,
   "metadata": {},
   "outputs": [],
   "source": [
    "f = open(\"WEBPAGES_RAW/1/342\")"
   ]
  },
  {
   "cell_type": "code",
   "execution_count": null,
   "metadata": {},
   "outputs": [],
   "source": [
    "s = f.read().replace(\"\\n\", \"\")"
   ]
  },
  {
   "cell_type": "code",
   "execution_count": null,
   "metadata": {},
   "outputs": [],
   "source": [
    "ET.parse(\"WEBPAGES_RAW/1/342\")"
   ]
  },
  {
   "cell_type": "code",
   "execution_count": null,
   "metadata": {},
   "outputs": [],
   "source": [
    "page = ET.fromstring(s)"
   ]
  },
  {
   "cell_type": "code",
   "execution_count": null,
   "metadata": {},
   "outputs": [],
   "source": [
    "soup.find_all('a')[25]"
   ]
  },
  {
   "cell_type": "code",
   "execution_count": null,
   "metadata": {},
   "outputs": [],
   "source": [
    "with open(\"WEBPAGES_RAW/0/141\") as f:\n",
    "    soup = BeautifulSoup(f.read())\n",
    "#     soup = BeautifulSoup(f.read().replace('iso-8859-1', 'utf-8'))"
   ]
  },
  {
   "cell_type": "code",
   "execution_count": null,
   "metadata": {},
   "outputs": [],
   "source": [
    "soup.find_all('a')[21]"
   ]
  },
  {
   "cell_type": "code",
   "execution_count": null,
   "metadata": {},
   "outputs": [],
   "source": [
    "with open(\"WEBPAGES_RAW/0/147\", encoding = \"utf-8\") as f:\n",
    "    k = f.read()"
   ]
  },
  {
   "cell_type": "code",
   "execution_count": null,
   "metadata": {
    "scrolled": true
   },
   "outputs": [],
   "source": [
    "k.replace(\"windows-1252\", \"utf-8\")"
   ]
  },
  {
   "cell_type": "code",
   "execution_count": null,
   "metadata": {},
   "outputs": [],
   "source": [
    "soup = BeautifulSoup(k)"
   ]
  },
  {
   "cell_type": "code",
   "execution_count": null,
   "metadata": {},
   "outputs": [],
   "source": [
    "soup"
   ]
  },
  {
   "cell_type": "code",
   "execution_count": null,
   "metadata": {},
   "outputs": [],
   "source": [
    "soup = BeautifulSoup(k)"
   ]
  },
  {
   "cell_type": "code",
   "execution_count": null,
   "metadata": {},
   "outputs": [],
   "source": [
    "with open(\"WEBPAGES_RAW/0/147\",encoding=\"utf-8\") as f:\n",
    "    page = html.fromstring(f.read())"
   ]
  },
  {
   "cell_type": "code",
   "execution_count": null,
   "metadata": {},
   "outputs": [],
   "source": [
    "with open(\"WEBPAGES_RAW/0/147\",encoding=\"utf-8\") as f:\n",
    "    page = html.fromstring(f.read())\n",
    "    xxx = page.xpath(\".//p\")\n",
    "    for x in xxx:\n",
    "        print(html.tostring(x))"
   ]
  },
  {
   "cell_type": "code",
   "execution_count": null,
   "metadata": {},
   "outputs": [],
   "source": [
    "page.xpath(\".//p\")"
   ]
  },
  {
   "cell_type": "code",
   "execution_count": null,
   "metadata": {},
   "outputs": [],
   "source": [
    "property_list_reg = \".//span\""
   ]
  },
  {
   "cell_type": "code",
   "execution_count": null,
   "metadata": {},
   "outputs": [],
   "source": [
    "with open(\"WEBPAGES_RAW/0/147\",encoding=\"utf-8\") as f:\n",
    "    page = html.fromstring(f.read())"
   ]
  },
  {
   "cell_type": "code",
   "execution_count": null,
   "metadata": {},
   "outputs": [],
   "source": []
  },
  {
   "cell_type": "code",
   "execution_count": null,
   "metadata": {},
   "outputs": [],
   "source": [
    "with open(\"WEBPAGES_RAW/0/147\",encoding=\"utf-8\") as f:\n",
    "    page = html.fromstring(f.read())\n",
    "property_list_reg = \".//p\"\n",
    "property_lst1 = page.xpath(property_list_reg)\n",
    "len(property_lst1)"
   ]
  },
  {
   "cell_type": "code",
   "execution_count": null,
   "metadata": {},
   "outputs": [],
   "source": []
  },
  {
   "cell_type": "code",
   "execution_count": null,
   "metadata": {},
   "outputs": [],
   "source": [
    "property_list_reg = \".//span\"\n",
    "property_lst2 = page.xpath(property_list_reg)\n",
    "len(property_lst2)"
   ]
  },
  {
   "cell_type": "code",
   "execution_count": null,
   "metadata": {},
   "outputs": [],
   "source": [
    "a = property_lst1[0]"
   ]
  },
  {
   "cell_type": "code",
   "execution_count": null,
   "metadata": {},
   "outputs": [],
   "source": [
    "a.text_content()"
   ]
  },
  {
   "cell_type": "code",
   "execution_count": null,
   "metadata": {},
   "outputs": [],
   "source": [
    "a.clear()"
   ]
  },
  {
   "cell_type": "code",
   "execution_count": null,
   "metadata": {},
   "outputs": [],
   "source": [
    "a.drop_tag()"
   ]
  },
  {
   "cell_type": "code",
   "execution_count": null,
   "metadata": {},
   "outputs": [],
   "source": [
    "property_list_reg = \".//span\"\n",
    "property_lst2 = page.xpath(property_list_reg)\n",
    "len(property_lst2)"
   ]
  },
  {
   "cell_type": "code",
   "execution_count": null,
   "metadata": {},
   "outputs": [],
   "source": [
    "def cal_len(html_page, tag):\n",
    "    return(len(html_page.xpath(\".//\" + tag)))"
   ]
  },
  {
   "cell_type": "code",
   "execution_count": null,
   "metadata": {},
   "outputs": [],
   "source": [
    "len(property_lst1)"
   ]
  },
  {
   "cell_type": "code",
   "execution_count": null,
   "metadata": {},
   "outputs": [],
   "source": [
    "len(property_lst1)"
   ]
  },
  {
   "cell_type": "code",
   "execution_count": null,
   "metadata": {},
   "outputs": [],
   "source": [
    "cal_len(page, \"p\")"
   ]
  },
  {
   "cell_type": "code",
   "execution_count": null,
   "metadata": {},
   "outputs": [],
   "source": [
    "with open(\"WEBPAGES_RAW/0/147\",encoding=\"utf-8\") as f:\n",
    "    page = html.fromstring(f.read())\n",
    "property_list_reg = \".//p\"\n",
    "property_lst1 = page.xpath(property_list_reg)\n",
    "len(property_lst1)"
   ]
  },
  {
   "cell_type": "code",
   "execution_count": null,
   "metadata": {},
   "outputs": [],
   "source": [
    "for i in range(len(property_lst1)):\n",
    "    text = property_lst1[i].text_content().strip()\n",
    "    if(text != ''):\n",
    "        print(text)\n",
    "    property_lst1[i].drop_tree()"
   ]
  },
  {
   "cell_type": "code",
   "execution_count": null,
   "metadata": {},
   "outputs": [],
   "source": [
    "cal_len(page, \"span\")"
   ]
  },
  {
   "cell_type": "code",
   "execution_count": null,
   "metadata": {},
   "outputs": [],
   "source": [
    "a"
   ]
  },
  {
   "cell_type": "code",
   "execution_count": null,
   "metadata": {},
   "outputs": [],
   "source": [
    "with open(\"WEBPAGES_RAW/0/10\", encoding=\"utf-8\") as f:\n",
    "    page = html.fromstring(f.read().replace(\"encoding=\\\"UTF-8\\\"\", \"\"))\n",
    "property_list_reg = \".//p\"\n",
    "property_lst1 = page.xpath(property_list_reg)\n",
    "len(property_lst1)"
   ]
  },
  {
   "cell_type": "code",
   "execution_count": null,
   "metadata": {},
   "outputs": [],
   "source": [
    "page.findall(\"html\")"
   ]
  },
  {
   "cell_type": "code",
   "execution_count": null,
   "metadata": {},
   "outputs": [],
   "source": [
    "f = open('WEBPAGES_RAW/0/152')\n",
    "raw_page = f.read().replace(\"encoding=\\\"\", \"\")\n",
    "f.close()\n",
    "page = html.fromstring(raw_page)\n",
    "\n",
    "total_result = parse_data(page, \"Idon'tCare\")"
   ]
  },
  {
   "cell_type": "code",
   "execution_count": null,
   "metadata": {},
   "outputs": [],
   "source": [
    "total_result['Others'][3]"
   ]
  },
  {
   "cell_type": "code",
   "execution_count": null,
   "metadata": {},
   "outputs": [],
   "source": [
    "print(raw_page)"
   ]
  },
  {
   "cell_type": "code",
   "execution_count": null,
   "metadata": {},
   "outputs": [],
   "source": []
  }
 ],
 "metadata": {
  "kernelspec": {
   "display_name": "Python 3",
   "language": "python",
   "name": "python3"
  },
  "language_info": {
   "codemirror_mode": {
    "name": "ipython",
    "version": 3
   },
   "file_extension": ".py",
   "mimetype": "text/x-python",
   "name": "python",
   "nbconvert_exporter": "python",
   "pygments_lexer": "ipython3",
   "version": "3.6.8"
  }
 },
 "nbformat": 4,
 "nbformat_minor": 2
}
