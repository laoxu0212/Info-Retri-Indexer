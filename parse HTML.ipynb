{
 "cells": [
  {
   "cell_type": "code",
   "execution_count": 1,
   "metadata": {},
   "outputs": [],
   "source": [
    "import sys\n",
    "import json\n",
    "import os\n",
    "from bs4 import BeautifulSoup"
   ]
  },
  {
   "cell_type": "code",
   "execution_count": 2,
   "metadata": {},
   "outputs": [
    {
     "data": {
      "text/plain": [
       "'3.6.8 |Anaconda, Inc.| (default, Dec 29 2018, 19:04:46) \\n[GCC 4.2.1 Compatible Clang 4.0.1 (tags/RELEASE_401/final)]'"
      ]
     },
     "execution_count": 2,
     "metadata": {},
     "output_type": "execute_result"
    }
   ],
   "source": [
    "sys.version"
   ]
  },
  {
   "cell_type": "code",
   "execution_count": 3,
   "metadata": {},
   "outputs": [],
   "source": [
    "def remove_unnecessary(name, soup):\n",
    "    for s in soup.find_all(name):\n",
    "        s.extract()"
   ]
  },
  {
   "cell_type": "code",
   "execution_count": 4,
   "metadata": {},
   "outputs": [],
   "source": [
    "def add_to_dict(dictionary, name, tag, soup):\n",
    "#     If nothing in the dictionary, add it.\n",
    "    if(dictionary[name] == ''):\n",
    "        dictionary[name] = []\n",
    "    objs = soup.find_all(tag)\n",
    "    if(len(objs) > 0):\n",
    "        for obj in objs:\n",
    "#             s = obj.text.strip().replace('\\n', '').replace('\\t', ' ')\n",
    "            s = obj.text\n",
    "            if(len(s) > 0):\n",
    "                dictionary[name].append(s)\n",
    "            obj.extract()"
   ]
  },
  {
   "cell_type": "code",
   "execution_count": 5,
   "metadata": {},
   "outputs": [],
   "source": [
    "def parse_data(soup, path, url):\n",
    "    # Script and Style are meaningless\n",
    "    remove_unnecessary('script', soup)\n",
    "    remove_unnecessary('style', soup)\n",
    "\n",
    "    # Define the dictionary content and the items in it.\n",
    "    # Currently we define it as:\n",
    "    '''\n",
    "    Link_Name: the text show on link name, since in that link it is more relevant, we should store it here\n",
    "    Paragraph: the paragraphs in the page, it is the important things\n",
    "    Title: I just stored the h1, h2, h3, Strong tags here, they are more important content.\n",
    "    Span: The ones in span, they are not important, I just store them and extract them later.\n",
    "    Others: The other content left in the page, it should have less weight.\n",
    "    '''\n",
    "    content = {}\n",
    "    content['Link_Name'] = []\n",
    "    content['Paragraph'] = []\n",
    "    content['Title'] = []\n",
    "    content['Span'] = []\n",
    "    content['Others'] = []\n",
    "    content['url'] = url\n",
    "\n",
    "    add_to_dict(content, 'Link_Name', 'a', soup)\n",
    "\n",
    "    add_to_dict(content, 'Link_Name', 'li', soup)\n",
    "\n",
    "    add_to_dict(content, 'Link_Name', 'option', soup)\n",
    "\n",
    "    add_to_dict(content, 'Span', 'span', soup)\n",
    "\n",
    "    add_to_dict(content, 'Paragraph', 'p', soup)\n",
    "\n",
    "    for tag in ('title', 'h1', 'h2', 'h3', 'Strong'):\n",
    "        add_to_dict(content, 'Title', tag, soup)\n",
    "    try:\n",
    "        soup.find('head').extract()\n",
    "    except:\n",
    "        None\n",
    "\n",
    "#         Here since I extract all the read text above, the rest of them will not be duplicated.\n",
    "#         And if there is any BROKEN html, it will read into \"Others\"\n",
    "    for word in soup.text.split('\\n'):\n",
    "        word = word.strip()\n",
    "        if(len(word) > 0):\n",
    "            content['Others'].append(word)\n",
    "            \n",
    "    return content"
   ]
  },
  {
   "cell_type": "code",
   "execution_count": 6,
   "metadata": {},
   "outputs": [],
   "source": [
    "def load_map_file(path):\n",
    "    with open(path) as f:\n",
    "        map_file = json.load(f)\n",
    "    return map_file"
   ]
  },
  {
   "cell_type": "code",
   "execution_count": 7,
   "metadata": {},
   "outputs": [],
   "source": [
    "# Initialize the parsing result\n",
    "# It will delete what has alread been created!\n",
    "# Don't run this one if it not necessary\n",
    "def clean_result():\n",
    "    map_file = load_map_file('WEBPAGES_RAW/bookkeeping.json')\n",
    "    readed = {}\n",
    "    for path in map_file:\n",
    "        readed[path] = False\n",
    "    with open('WEBPAGES_RAW/already_read.json', 'w') as f:\n",
    "        json.dump(readed,f)\n",
    "    for file_name in os.listdir('Data/'):\n",
    "        os.remove('Data/' + file_name)"
   ]
  },
  {
   "cell_type": "code",
   "execution_count": 8,
   "metadata": {},
   "outputs": [],
   "source": [
    "def read_and_write(max_time):\n",
    "    total_result = {}\n",
    "\n",
    "    with open('WEBPAGES_RAW/already_read.json') as f:\n",
    "        alread_read = json.load(f)\n",
    "\n",
    "    map_file = load_map_file('WEBPAGES_RAW/bookkeeping.json')\n",
    "\n",
    "    i = 0\n",
    "    for path in map_file:\n",
    "    #     If it is readed, do not read it again.\n",
    "        if(alread_read[path]):\n",
    "            continue\n",
    "\n",
    "        try:\n",
    "            f = open('WEBPAGES_RAW/' + path)\n",
    "        except:\n",
    "            print('Something wrong with ' + path)\n",
    "            continue\n",
    "        else:\n",
    "            soup = BeautifulSoup(f.read())\n",
    "            f.close()\n",
    "            url = map_file[path]\n",
    "            total_result[path] = parse_data(soup, path, url)\n",
    "        alread_read[path] = True\n",
    "        i += 1\n",
    "        if(i == max_time):\n",
    "            break\n",
    "    \n",
    "    return total_result, alread_read"
   ]
  },
  {
   "cell_type": "code",
   "execution_count": 9,
   "metadata": {},
   "outputs": [],
   "source": [
    "# clean_result()"
   ]
  },
  {
   "cell_type": "code",
   "execution_count": 11,
   "metadata": {
    "scrolled": true
   },
   "outputs": [],
   "source": [
    "dealed = 0\n",
    "while(True):\n",
    "    total_result, already_read = read_and_write(100)\n",
    "    if(len(total_result) == 0):\n",
    "        break\n",
    "\n",
    "    data_name = str(len(os.listdir('Data/'))) + '.json'\n",
    "    \n",
    "#     Save data\n",
    "    with open('Data/' + data_name, 'w') as f:\n",
    "        json.dump(total_result, f)\n",
    "\n",
    "#     Updata what has been readed.\n",
    "    with open('WEBPAGES_RAW/already_read.json', 'w') as f:\n",
    "        json.dump(already_read,f)\n",
    "    dealed += len(total_result)"
   ]
  },
  {
   "cell_type": "code",
   "execution_count": null,
   "metadata": {},
   "outputs": [],
   "source": []
  },
  {
   "cell_type": "code",
   "execution_count": null,
   "metadata": {},
   "outputs": [],
   "source": []
  },
  {
   "cell_type": "code",
   "execution_count": null,
   "metadata": {},
   "outputs": [],
   "source": []
  },
  {
   "cell_type": "code",
   "execution_count": null,
   "metadata": {},
   "outputs": [],
   "source": []
  },
  {
   "cell_type": "code",
   "execution_count": null,
   "metadata": {},
   "outputs": [],
   "source": []
  },
  {
   "cell_type": "code",
   "execution_count": null,
   "metadata": {},
   "outputs": [],
   "source": []
  }
 ],
 "metadata": {
  "kernelspec": {
   "display_name": "Python 3",
   "language": "python",
   "name": "python3"
  },
  "language_info": {
   "codemirror_mode": {
    "name": "ipython",
    "version": 3
   },
   "file_extension": ".py",
   "mimetype": "text/x-python",
   "name": "python",
   "nbconvert_exporter": "python",
   "pygments_lexer": "ipython3",
   "version": "3.6.8"
  }
 },
 "nbformat": 4,
 "nbformat_minor": 2
}
